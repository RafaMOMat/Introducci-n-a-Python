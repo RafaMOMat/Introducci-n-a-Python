{
 "cells": [
  {
   "cell_type": "markdown",
   "id": "b01a25e0",
   "metadata": {},
   "source": [
    "# Ejercicios de python trabajados en clase"
   ]
  },
  {
   "cell_type": "markdown",
   "id": "a932ca9d",
   "metadata": {},
   "source": [
    "## Tablas de multiplicar\n",
    "Hacer las tablas de multiplicar del 1 al 10 usando dos for anidados y rectificando los valores de i y de j"
   ]
  },
  {
   "cell_type": "code",
   "execution_count": 6,
   "id": "037e9f05",
   "metadata": {},
   "outputs": [
    {
     "name": "stdout",
     "output_type": "stream",
     "text": [
      "Tabla del 1 :\n",
      "1  *  1  =  1\n",
      "1  *  2  =  2\n",
      "1  *  3  =  3\n",
      "1  *  4  =  4\n",
      "1  *  5  =  5\n",
      "1  *  6  =  6\n",
      "1  *  7  =  7\n",
      "1  *  8  =  8\n",
      "1  *  9  =  9\n",
      "1  *  10  =  10\n",
      "Tabla del 2 :\n",
      "2  *  1  =  2\n",
      "2  *  2  =  4\n",
      "2  *  3  =  6\n",
      "2  *  4  =  8\n",
      "2  *  5  =  10\n",
      "2  *  6  =  12\n",
      "2  *  7  =  14\n",
      "2  *  8  =  16\n",
      "2  *  9  =  18\n",
      "2  *  10  =  20\n",
      "Tabla del 3 :\n",
      "3  *  1  =  3\n",
      "3  *  2  =  6\n",
      "3  *  3  =  9\n",
      "3  *  4  =  12\n",
      "3  *  5  =  15\n",
      "3  *  6  =  18\n",
      "3  *  7  =  21\n",
      "3  *  8  =  24\n",
      "3  *  9  =  27\n",
      "3  *  10  =  30\n",
      "Tabla del 4 :\n",
      "4  *  1  =  4\n",
      "4  *  2  =  8\n",
      "4  *  3  =  12\n",
      "4  *  4  =  16\n",
      "4  *  5  =  20\n",
      "4  *  6  =  24\n",
      "4  *  7  =  28\n",
      "4  *  8  =  32\n",
      "4  *  9  =  36\n",
      "4  *  10  =  40\n",
      "Tabla del 5 :\n",
      "5  *  1  =  5\n",
      "5  *  2  =  10\n",
      "5  *  3  =  15\n",
      "5  *  4  =  20\n",
      "5  *  5  =  25\n",
      "5  *  6  =  30\n",
      "5  *  7  =  35\n",
      "5  *  8  =  40\n",
      "5  *  9  =  45\n",
      "5  *  10  =  50\n",
      "Tabla del 6 :\n",
      "6  *  1  =  6\n",
      "6  *  2  =  12\n",
      "6  *  3  =  18\n",
      "6  *  4  =  24\n",
      "6  *  5  =  30\n",
      "6  *  6  =  36\n",
      "6  *  7  =  42\n",
      "6  *  8  =  48\n",
      "6  *  9  =  54\n",
      "6  *  10  =  60\n",
      "Tabla del 7 :\n",
      "7  *  1  =  7\n",
      "7  *  2  =  14\n",
      "7  *  3  =  21\n",
      "7  *  4  =  28\n",
      "7  *  5  =  35\n",
      "7  *  6  =  42\n",
      "7  *  7  =  49\n",
      "7  *  8  =  56\n",
      "7  *  9  =  63\n",
      "7  *  10  =  70\n",
      "Tabla del 8 :\n",
      "8  *  1  =  8\n",
      "8  *  2  =  16\n",
      "8  *  3  =  24\n",
      "8  *  4  =  32\n",
      "8  *  5  =  40\n",
      "8  *  6  =  48\n",
      "8  *  7  =  56\n",
      "8  *  8  =  64\n",
      "8  *  9  =  72\n",
      "8  *  10  =  80\n",
      "Tabla del 9 :\n",
      "9  *  1  =  9\n",
      "9  *  2  =  18\n",
      "9  *  3  =  27\n",
      "9  *  4  =  36\n",
      "9  *  5  =  45\n",
      "9  *  6  =  54\n",
      "9  *  7  =  63\n",
      "9  *  8  =  72\n",
      "9  *  9  =  81\n",
      "9  *  10  =  90\n",
      "Tabla del 10 :\n",
      "10  *  1  =  10\n",
      "10  *  2  =  20\n",
      "10  *  3  =  30\n",
      "10  *  4  =  40\n",
      "10  *  5  =  50\n",
      "10  *  6  =  60\n",
      "10  *  7  =  70\n",
      "10  *  8  =  80\n",
      "10  *  9  =  90\n",
      "10  *  10  =  100\n"
     ]
    }
   ],
   "source": [
    "for i in range (10):\n",
    "    print(\"Tabla del\", i+1, \":\")\n",
    "    for j in range (10):\n",
    "        print(i+1, \" * \", j+1,\" = \", (i+1)*(j+1))"
   ]
  },
  {
   "cell_type": "markdown",
   "id": "d6ba847c",
   "metadata": {},
   "source": [
    "# Operaciones con acarreo"
   ]
  },
  {
   "cell_type": "markdown",
   "id": "f3feec17",
   "metadata": {},
   "source": [
    "## Multiplicación con acarreo\n",
    "Vamos almacenando el resultado en una variable y luego la devolvemos"
   ]
  },
  {
   "cell_type": "code",
   "execution_count": 10,
   "id": "ab1058b6",
   "metadata": {},
   "outputs": [
    {
     "name": "stdout",
     "output_type": "stream",
     "text": [
      "100\n"
     ]
    }
   ],
   "source": [
    "def multiplicar (a,b):\n",
    "    #declaramos la variable y la igualamos a 0, elmento neutro de la suma\n",
    "    res = 0\n",
    "    for i in range (b):\n",
    "        #definimos un for de rango b, ya que multiplicar a*b es sumar un valor a un número b de veces\n",
    "        res+=a\n",
    "    return res\n",
    "\n",
    "c = multiplicar (25, 4)\n",
    "print (c)\n",
    "    "
   ]
  },
  {
   "cell_type": "markdown",
   "id": "45967d2b",
   "metadata": {},
   "source": [
    "## Potencias con acarreo"
   ]
  },
  {
   "cell_type": "code",
   "execution_count": 12,
   "id": "b2db549a",
   "metadata": {},
   "outputs": [
    {
     "name": "stdout",
     "output_type": "stream",
     "text": [
      "125\n"
     ]
    }
   ],
   "source": [
    "def potencia (a,b):\n",
    "    #declaramos la variable y la igualamos a 1, elmento neutro de la multiplicación\n",
    "    res = 1\n",
    "    for i in range (b):\n",
    "        #definimos un for de rango b, ya que elvar a^b es multipicar un valor a un número b de veces\n",
    "        res*=a\n",
    "    return res\n",
    "\n",
    "c = potencia (5, 3)\n",
    "print (c)\n",
    "    "
   ]
  }
 ],
 "metadata": {
  "kernelspec": {
   "display_name": "Python 3",
   "language": "python",
   "name": "python3"
  },
  "language_info": {
   "codemirror_mode": {
    "name": "ipython",
    "version": 3
   },
   "file_extension": ".py",
   "mimetype": "text/x-python",
   "name": "python",
   "nbconvert_exporter": "python",
   "pygments_lexer": "ipython3",
   "version": "3.8.10"
  }
 },
 "nbformat": 4,
 "nbformat_minor": 5
}
