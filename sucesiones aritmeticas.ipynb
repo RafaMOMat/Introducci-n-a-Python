{
 "cells": [
  {
   "cell_type": "markdown",
   "id": "8495f418",
   "metadata": {},
   "source": [
    "# Sucesiones aritméticas\n",
    "Una sucesión aritmética que responde a la forma de:\n",
    "\n",
    "a \n",
    "n\n",
    "​\n",
    " =a \n",
    "1\n",
    "​\n",
    " ,a \n",
    "2\n",
    "​\n",
    " ,a \n",
    "3\n",
    "​\n",
    " ,…,a \n",
    "n\n",
    "​\n",
    "\n",
    "Con una forma general definida como:\n",
    "\n",
    "a \n",
    "n\n",
    "​\n",
    " =a \n",
    "1\n",
    "​\n",
    " +(n−1)⋅d\n",
    " \n",
    " \n",
    "Puede expresarse facilmente como una fúnción en función de los valores que tengan la distancia (d), el primer elemento (a1) y el orden de la posición (n). Pero para facilitar aún más la programación vamos a empezar nuestro orden en 0 en vez de en uno, por lo que nuestra sucesiones van a empezar con el elemento a0 y se defeninen como:\n",
    "\n",
    "a \n",
    "i\n",
    "​\n",
    " =a \n",
    "0\n",
    "​\n",
    " +i⋅d"
   ]
  },
  {
   "cell_type": "code",
   "execution_count": 10,
   "id": "6c946030",
   "metadata": {},
   "outputs": [],
   "source": [
    "#vamos a definir una función para resolver sucesiones aritméticas\n",
    "#esta función va a recibir 3 argumentos (a,d,i), donde a es el a0, d es la distancia e i es la posición\n",
    "\n",
    "def sucesionAritmetica(a, d, i):\n",
    "    #creo una variable para almacenar el resultado y utilizo los argumentos para operar con ellos\n",
    "    ai = a + d*i\n",
    "    #devolvemos la variable\n",
    "    return ai"
   ]
  },
  {
   "cell_type": "markdown",
   "id": "b5ad44dd",
   "metadata": {},
   "source": [
    "Es hora de probar nuestra variable, vamos a analizar la sucesión ai= 3, 5, 7, 9... podemos ver facilmente que la distancia es 2 y que a0 es 3, con lo que ya podemos obtner cualquier número de la sucesión. En este ejemplo vamos a utilizar un bucle for para obtener varios resultados a la vez"
   ]
  },
  {
   "cell_type": "code",
   "execution_count": 12,
   "id": "25874246",
   "metadata": {},
   "outputs": [
    {
     "name": "stdout",
     "output_type": "stream",
     "text": [
      "3 5 7 9 11 "
     ]
    }
   ],
   "source": [
    "#inicializamos nuestras variables, aunque se pueden poner los valores directamente\n",
    "d = 2\n",
    "a = 3\n",
    "\n",
    "#Vamos a crear una variable que vamos a llamar ai,\n",
    "#este nombre no está cogido ya que estamos fuera de la función sucesionAritmetica\n",
    "\n",
    "#ahora vamos a ver los distintos valores que va obteniendo ai en función del valor de la i\n",
    "for i in range (5):\n",
    "    print (sucesionAritmetica(a, d, i),  end=\" \")"
   ]
  },
  {
   "cell_type": "code",
   "execution_count": 14,
   "id": "05801e54",
   "metadata": {},
   "outputs": [
    {
     "name": "stdout",
     "output_type": "stream",
     "text": [
      "El valor de a35 es de 73\n"
     ]
    }
   ],
   "source": [
    "#por ejemplo vamos a calcular cual es el resultado del valor 35\n",
    "x = sucesionAritmetica(a,d,35)\n",
    "\n",
    "print (\"El valor de a35 es de\", x)"
   ]
  },
  {
   "cell_type": "markdown",
   "id": "f5236a28",
   "metadata": {},
   "source": [
    "# Distancia\n",
    "No siempre vamos a tener sucesiones tan fáciles, la sucesión 16, 2, -12... a lo mejor no es tán facil de sacar a simple vista y nos pude resultar útil tener una función para calcularla, esta función vendrá definida por los valores ap y aq y por los valores de las posiciones p y q:\n",
    "d = (ap-aq)/(p-q) siendo p > q"
   ]
  },
  {
   "cell_type": "code",
   "execution_count": 21,
   "id": "c7506173",
   "metadata": {},
   "outputs": [],
   "source": [
    "def distancia (ap, aq, p, q):\n",
    "    #vaos a crear una variable para obtner el resulado de la operación\n",
    "    d = (ap-aq)/(p-q)\n",
    "    #devolvemos nuesta variable\n",
    "    return d"
   ]
  },
  {
   "cell_type": "code",
   "execution_count": 23,
   "id": "8eaa5970",
   "metadata": {},
   "outputs": [
    {
     "name": "stdout",
     "output_type": "stream",
     "text": [
      "La distancia de la sucesión es -14.0\n"
     ]
    }
   ],
   "source": [
    "# ahora vamos a utilizar nuesta función para obtner la distancia de la sucesión peviamente descrita\n",
    "# conocemos las 3 primeras posiciones\n",
    "# centremonos en 2 cuales quiera, por ejemplo la posición 2 y la 0, cuyos valores con -14 y -16\n",
    "d = distancia (-12, 16, 2, 0)\n",
    "\n",
    "print (\"La distancia de la sucesión es\", d)"
   ]
  },
  {
   "cell_type": "code",
   "execution_count": 26,
   "id": "820aa74a",
   "metadata": {},
   "outputs": [
    {
     "name": "stdout",
     "output_type": "stream",
     "text": [
      "El cuarto elemento de la sucesión es: -26.0\n"
     ]
    }
   ],
   "source": [
    "#ahora que conocemos la distancia podemos calcular cualquier elementeo de la sucesión\n",
    "#vamos a mirar el elemento 4\n",
    "a = sucesionAritmetica(16, d, 3)\n",
    "print (\"El cuarto elemento de la sucesión es:\", a)"
   ]
  },
  {
   "cell_type": "markdown",
   "id": "617d54da",
   "metadata": {},
   "source": [
    "# Sumatoria\n",
    "Para la sumatoria de los n primeros elementos vamos a tener que hacer una pequeña modificación a la fórmula original si queremos seguir contando desde 0:\n",
    "Si = (a0+ai)*(i+1)/2"
   ]
  },
  {
   "cell_type": "code",
   "execution_count": 28,
   "id": "2960f54f",
   "metadata": {},
   "outputs": [],
   "source": [
    "# definimos la función en función de los argumentos necesarios, el a0, al ai y la posición\n",
    "\n",
    "def sumatorio(a, ai, i):\n",
    "    s = (a+ai)*(i+1)/2\n",
    "    return s"
   ]
  },
  {
   "cell_type": "code",
   "execution_count": 31,
   "id": "f69b7212",
   "metadata": {},
   "outputs": [
    {
     "name": "stdout",
     "output_type": "stream",
     "text": [
      "El sumatorio hasta i = 2 e de 6.0\n"
     ]
    }
   ],
   "source": [
    "#vamos a probar con sumar los 4 primeros terminos\n",
    "acumulado = sumatorio (16, -12, 2)\n",
    "print (\"El sumatorio hasta i = 2 e de\", acumulado)"
   ]
  }
 ],
 "metadata": {
  "kernelspec": {
   "display_name": "Python 3",
   "language": "python",
   "name": "python3"
  },
  "language_info": {
   "codemirror_mode": {
    "name": "ipython",
    "version": 3
   },
   "file_extension": ".py",
   "mimetype": "text/x-python",
   "name": "python",
   "nbconvert_exporter": "python",
   "pygments_lexer": "ipython3",
   "version": "3.8.10"
  }
 },
 "nbformat": 4,
 "nbformat_minor": 5
}
