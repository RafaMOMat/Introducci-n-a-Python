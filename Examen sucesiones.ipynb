{
 "cells": [
  {
   "cell_type": "markdown",
   "id": "e778e849",
   "metadata": {},
   "source": [
    "# Examen sucesiones \n",
    "Vamos a resolver el exmane de sucesiones aritméticas usando las funciones del NoteBook de sucesiones aritméticas\n",
    "¡Comenzamos!"
   ]
  },
  {
   "cell_type": "markdown",
   "id": "8a4d1df6",
   "metadata": {},
   "source": [
    "# Ejercicio 1\n",
    "En una carrera olímpica, los deportistas entran en meta en progresión arimética. El 3º tardó 620 segundos y el 10º, 690 segundos"
   ]
  },
  {
   "cell_type": "markdown",
   "id": "cde90585",
   "metadata": {},
   "source": [
    "## Apartado a:\n",
    "El récord del mundo son 602 segundos, ¿lo bate algún corredor?\n",
    "\n",
    "Para saber si algún corredor bate el récord del mundo tenemos que conocer si existe algún término perteneciente a la sucesión menor que 602. Dado que tenemos el elemento a2 y el a9 podemos hayar la distancia, una vez obtenida la distancia, bastará con restar dos veces el valor al término a2 para obtener a0"
   ]
  },
  {
   "cell_type": "code",
   "execution_count": 111,
   "id": "f75d012a",
   "metadata": {},
   "outputs": [],
   "source": [
    "#Primero vamos a definir la función distancia para poder utilizarla después\n",
    "#vamos a definir una función para resolver sucesiones aritméticas\n",
    "#esta función va a recibir 3 argumentos (a,d,i), donde a es el a0, d es la distancia e i es la posición\n",
    "\n",
    "def distancia (ap, aq, p, q):\n",
    "    #vaos a crear una variable para obtner el resulado de la operación\n",
    "    distancia = (ap-aq)/(p-q)\n",
    "    #devolvemos nuesta variable\n",
    "    return distancia"
   ]
  },
  {
   "cell_type": "code",
   "execution_count": 112,
   "id": "506b5c8b",
   "metadata": {},
   "outputs": [],
   "source": [
    "# ahora que la tenemos vamos a utilizarla, para ello vamos a crear una variable a que sea nuestra a0\n",
    "# esta variable a0 va a ser a2 menos dos veces la distancia\n",
    "\n",
    "dist = distancia(690, 620, 9, 2)\n",
    "# aCero = 320-2*distancia(690, 620, 9, 2) manera altenativa de calcular a\n",
    "aCero = 620- 2*(dist)"
   ]
  },
  {
   "cell_type": "code",
   "execution_count": 113,
   "id": "7f0283b8",
   "metadata": {},
   "outputs": [
    {
     "name": "stdout",
     "output_type": "stream",
     "text": [
      "Ha batido un nuevo récord mundial con un tiempo de 600.0 segudos\n"
     ]
    }
   ],
   "source": [
    "# Ya tenemos nuestro valor, ahora vamos a utilizarlo\n",
    "# Primero vamos a ver si es mayor o menor que el récord del mundo y según sea daremos una respuesta u otra\n",
    "recordDelMundo = 602 #el record del mundo actual son 602 segundos\n",
    "if (aCero < recordDelMundo):\n",
    "    print(\"Ha batido un nuevo récord mundial con un tiempo de\",aCero, \"segudos\")\n",
    "else:\n",
    "    print(\"No ha podido ser ya que 602 es menor que\", aCero)"
   ]
  },
  {
   "cell_type": "markdown",
   "id": "ec0a6a5c",
   "metadata": {},
   "source": [
    "## Apartado b:\n",
    "\n",
    "Hallar el término general de la carrera\n",
    "\n",
    "Una vez tenemos el primer término (a) y la distancia (d) hallar un elemento de la sucesión es tan fácil como darle los valores a nuestra sucesión"
   ]
  },
  {
   "cell_type": "code",
   "execution_count": 114,
   "id": "7d9f3607",
   "metadata": {},
   "outputs": [],
   "source": [
    "# Primero vamos a definir nuestra función para sucesiones aritméticas\n",
    "#vamos a definir una función para resolver sucesiones aritméticas\n",
    "#esta función va a recibir 3 argumentos (a,d,i), donde a es el a0, d es la distancia e i es la posición\n",
    "\n",
    "def sucesionAritmetica(a, d, i):\n",
    "    #creo una variable para almacenar el resultado y utilizo los argumentos para operar con ellos\n",
    "    ai = a + d*i\n",
    "    #devolvemos la variable\n",
    "    return ai"
   ]
  },
  {
   "cell_type": "code",
   "execution_count": 115,
   "id": "de91df6b",
   "metadata": {},
   "outputs": [
    {
     "name": "stdout",
     "output_type": "stream",
     "text": [
      "600.0\n",
      "610.0\n",
      "620.0\n",
      "630.0\n",
      "640.0\n",
      "650.0\n",
      "660.0\n",
      "670.0\n",
      "680.0\n",
      "690.0\n",
      "700.0\n",
      "710.0\n"
     ]
    }
   ],
   "source": [
    "# vamos a usar esta función en un bucle for para obtener, en este caso, los 5 primeros valores\n",
    "for i in range (12):\n",
    "    print(sucesionAritmetica(aCero, dist, i))"
   ]
  },
  {
   "cell_type": "code",
   "execution_count": 116,
   "id": "607481a0",
   "metadata": {},
   "outputs": [
    {
     "name": "stdout",
     "output_type": "stream",
     "text": [
      "Está bien hehco el a9 es 690.0\n"
     ]
    }
   ],
   "source": [
    "#para comprobar si nuestra sucesión está bien definida vamos a ver el valor del 10º elemento, el a9\n",
    "aNueve = sucesionAritmetica(aCero, dist, 9)\n",
    "# ahora comprobamos el resultado con el operador == que sirve para ver si dos elementos tienen el mismo valor\n",
    "if (aNueve == 690):\n",
    "    print (\"Está bien hehco el a9 es\", aNueve)\n",
    "else:\n",
    "    print (\"Está mal hecho debería ser 690 pero es\", aNueve)"
   ]
  },
  {
   "cell_type": "markdown",
   "id": "357656f4",
   "metadata": {},
   "source": [
    "## Apartado c:\n",
    "Hallar la suma de los tiempos de 12 primeros corredores\n",
    "\n",
    "Para este apartado vamos a utilizar la función de la sumatoria, pero tenemos que tener cuidado porque aunque sean los 12 primeros corredores nosotros hemos empezado a contar por el corredor 0, por lo que nuestra i va a ser 11"
   ]
  },
  {
   "cell_type": "code",
   "execution_count": 117,
   "id": "25ce25e1",
   "metadata": {},
   "outputs": [],
   "source": [
    "# definimos la función en función de los argumentos necesarios, el a0, el ai y la posición i\n",
    "\n",
    "def sumatorio(a, ai, i):\n",
    "    s = (a+ai)*(i+1)/2\n",
    "    return s"
   ]
  },
  {
   "cell_type": "code",
   "execution_count": 118,
   "id": "39ec9dd9",
   "metadata": {},
   "outputs": [
    {
     "name": "stdout",
     "output_type": "stream",
     "text": [
      "La sumatoria de los 12 primeros corredores es de 7860.0\n"
     ]
    }
   ],
   "source": [
    "aOnce = sucesionAritmetica(aCero, dist, 11)\n",
    "sumatoria = sumatorio(aCero, aOnce, 11)\n",
    "\n",
    "print(\"La sumatoria de los 12 primeros corredores es de\", sumatoria)"
   ]
  },
  {
   "cell_type": "markdown",
   "id": "cc18345c",
   "metadata": {},
   "source": [
    "# Ejercicio 2\n",
    "Pedro abre un kiosko donde vende periódicos, el primer día vende 16 periódicos, el número de ventas aumenta de forma aritmética en los primeros 20 días. La suma de los periódicos vendidos estos primeros 20 días es de 1840"
   ]
  },
  {
   "cell_type": "markdown",
   "id": "ba370336",
   "metadata": {},
   "source": [
    "## Apartado a:\n",
    "¿Cúantos periódicos vendión el día 20?\n",
    "\n",
    "Sabemos que los 20 primerors días es de 1840 periódicos, sabemos también que la sumatoria está en función de ai:\n",
    "        Si = (a0+ai)*(i+1)/2\n",
    " \n",
    "Vamos a despejar ai paso a paso:\n",
    "\n",
    "    1º despejamos el 2 que está dividiendo:\n",
    "    2*Si = (a0+ai)*(i+1)\n",
    "    \n",
    "    2º despejamos (i+1) que está multiplicando\n",
    "    2*Si/(i+1) = a0+ai\n",
    "    \n",
    "    3º despejamos el ai que está restando\n",
    "    ai = 2*Si/(i+1)-a0"
   ]
  },
  {
   "cell_type": "code",
   "execution_count": 119,
   "id": "2e2f7571",
   "metadata": {},
   "outputs": [
    {
     "name": "stdout",
     "output_type": "stream",
     "text": [
      "El termino a19 es 168.0\n"
     ]
    }
   ],
   "source": [
    "# vamos a declarar nuestras variables\n",
    "aCero = 16\n",
    "sumatoria = 1840\n",
    "i = 19 # si empezamos a contar desde 0 el 19 es el que ocupa la posición 20\n",
    "aDiecinueve = (2*sumatoria/(i+1))-aCero\n",
    "print(\"El termino a19 es\",aDicinueve)"
   ]
  },
  {
   "cell_type": "markdown",
   "id": "86c4ea45",
   "metadata": {},
   "source": [
    "## Apartado b:\n",
    "¿Cúanto es la distancia?\n",
    "Es tan fácil como llamar a nuestra función distancia con los datos que ya tenemos en las variables aCero, aDiecinueve y sabemos nuestra p y nuestra q, 19 y 0"
   ]
  },
  {
   "cell_type": "code",
   "execution_count": 121,
   "id": "bc072442",
   "metadata": {},
   "outputs": [
    {
     "name": "stdout",
     "output_type": "stream",
     "text": [
      "La distancia es de 8.0\n"
     ]
    }
   ],
   "source": [
    "distan = distancia (aDiecinueve, aCero, 19, 0)\n",
    "\n",
    "print (\"La distancia es de\", distan)"
   ]
  },
  {
   "cell_type": "markdown",
   "id": "9bc9ebce",
   "metadata": {},
   "source": [
    "## Apartado c:\n",
    "Termino general\n",
    "Para el término general batará con llamar a nuestra función sucesionAritmetica, vamos a darle los valores de a0 y distancia que tenmos, y mostraremos los 5 primeros valores"
   ]
  },
  {
   "cell_type": "code",
   "execution_count": 123,
   "id": "7e2c47a1",
   "metadata": {},
   "outputs": [
    {
     "name": "stdout",
     "output_type": "stream",
     "text": [
      "16.0\n",
      "26.0\n",
      "36.0\n",
      "46.0\n",
      "56.0\n"
     ]
    }
   ],
   "source": [
    "for i in range (5):\n",
    "    print(sucesionAritmetica(aCero, dist, i))"
   ]
  },
  {
   "cell_type": "markdown",
   "id": "61c3bed8",
   "metadata": {},
   "source": [
    "# Ejercicio 3\n",
    "Sea la sucesión aritmética 1, 4, 7, 10 ...\n",
    "\n",
    "## Apartado a:\n",
    "Hallar la distancia"
   ]
  },
  {
   "cell_type": "code",
   "execution_count": 126,
   "id": "cf0f0731",
   "metadata": {},
   "outputs": [
    {
     "name": "stdout",
     "output_type": "stream",
     "text": [
      "La distancia es 3.0\n"
     ]
    }
   ],
   "source": [
    "aCero = 1\n",
    "aUno = 4\n",
    "d = distancia (aUno,aCero,1,0)\n",
    "print (\"La distancia es\", d)"
   ]
  },
  {
   "cell_type": "markdown",
   "id": "e57753bc",
   "metadata": {},
   "source": [
    "## Apartado b:\n",
    "Hallar el término gneral"
   ]
  },
  {
   "cell_type": "code",
   "execution_count": 137,
   "id": "1b89ae38",
   "metadata": {},
   "outputs": [
    {
     "name": "stdout",
     "output_type": "stream",
     "text": [
      "-3.0\n",
      "-5.0\n",
      "-7.0\n",
      "-9.0\n",
      "-11.0\n"
     ]
    }
   ],
   "source": [
    "# Vamos a utilizar la función del término gneeral para hallar los 5 primeros elementos\n",
    "for i in range (5):\n",
    "    print(sucesionAritmetica(aCero, d, i))"
   ]
  },
  {
   "cell_type": "markdown",
   "id": "45899d4c",
   "metadata": {},
   "source": [
    "## Apartado 100\n",
    "Hallar la sumatoria de los 100 primeros términos"
   ]
  },
  {
   "cell_type": "code",
   "execution_count": 131,
   "id": "e34895f1",
   "metadata": {},
   "outputs": [
    {
     "name": "stdout",
     "output_type": "stream",
     "text": [
      "El sumatorio de los 100 primeros elementos es de 14950.0\n"
     ]
    }
   ],
   "source": [
    "# para hallar la sumatoria de los 100 primeros términos necesitamos el términi a99\n",
    "#para ello vamos a usar la función del término gneral y a albergar el resutado en una variable\n",
    "aNoventaynueve = sucesionAritmetica(aCero, d, 99)\n",
    "\n",
    "# Vamos a usar nuestra función sumatoria para obtner el resultado de la suma de los 100 primeros elementos de nuestra sucesión\n",
    "s = sumatorio(aNoventaynueve, aCero, 99)\n",
    "print(\"El sumatorio de los 100 primeros elementos es de\",s)"
   ]
  },
  {
   "cell_type": "markdown",
   "id": "395055a0",
   "metadata": {},
   "source": [
    "# Ejercicio 4\n",
    "Sea a2 = -7 y a8 = -19\n",
    "\n",
    "Hallar a1, d, an y S100"
   ]
  },
  {
   "cell_type": "code",
   "execution_count": 133,
   "id": "3fe4dd3d",
   "metadata": {},
   "outputs": [
    {
     "name": "stdout",
     "output_type": "stream",
     "text": [
      "La distancia es -2.0\n"
     ]
    }
   ],
   "source": [
    "# Primero vamos a obtner la distancia d, para ello vamos a usar nuestra función distancia\n",
    "\n",
    "aDos = -7\n",
    "aOcho = -19\n",
    "\n",
    "d = distancia(aOcho, aDos, 8, 2)\n",
    "print (\"La distancia es\", d)"
   ]
  },
  {
   "cell_type": "code",
   "execution_count": 134,
   "id": "e8e5e681",
   "metadata": {},
   "outputs": [
    {
     "name": "stdout",
     "output_type": "stream",
     "text": [
      "El primer término de esta sucesión es -3.0\n"
     ]
    }
   ],
   "source": [
    "# Para obtner nuestro a0 vamos a tener que restar la distancia dos veces al a2\n",
    "aCero = aDos - 2*d\n",
    "print(\"El primer término de esta sucesión es\", aCero)"
   ]
  },
  {
   "cell_type": "code",
   "execution_count": 136,
   "id": "382e8028",
   "metadata": {},
   "outputs": [
    {
     "name": "stdout",
     "output_type": "stream",
     "text": [
      "-3.0\n",
      "-5.0\n",
      "-7.0\n",
      "-9.0\n",
      "-11.0\n"
     ]
    }
   ],
   "source": [
    "# Vamos a utilizar la función del término gneeral para hallar los 5 primeros elementos\n",
    "for i in range (5):\n",
    "    print(sucesionAritmetica(aCero, d, i))"
   ]
  },
  {
   "cell_type": "code",
   "execution_count": 139,
   "id": "1b78a7cf",
   "metadata": {},
   "outputs": [
    {
     "name": "stdout",
     "output_type": "stream",
     "text": [
      "La sumatoria de los 100 primero erlemntos es de  -10200.0\n"
     ]
    }
   ],
   "source": [
    "# Para obtnner la sumatoria de 100 vamos a utilizar nuestra función sumatorio\n",
    "# Pero primero necesitamos obtner nuestro elemnot 100 a99\n",
    "aNnueve = sucesionAritmetica(aCero, d, 99)\n",
    "\n",
    "s = sumatorio(aCero, aNnueve, 99)\n",
    "print(\"La sumatoria de los 100 primero erlemntos es de \", s)"
   ]
  },
  {
   "cell_type": "markdown",
   "id": "633b58d0",
   "metadata": {},
   "source": [
    "# Ejercicio 5\n",
    "Sea a2 = 1 y a8 = 7/3\n",
    "\n",
    "Hallar a1, d, an y S100\n"
   ]
  },
  {
   "cell_type": "code",
   "execution_count": 140,
   "id": "411b2bc8",
   "metadata": {},
   "outputs": [
    {
     "name": "stdout",
     "output_type": "stream",
     "text": [
      "La distancia es 0.6666666666666667\n"
     ]
    }
   ],
   "source": [
    "# Primero vamos a obtner la distancia d, para ello vamos a usar nuestra función distancia\n",
    "\n",
    "aUno = 1\n",
    "aTres = 7/3\n",
    "\n",
    "d = distancia(aTres, aUno, 3, 1)\n",
    "print (\"La distancia es\", d)"
   ]
  },
  {
   "cell_type": "code",
   "execution_count": 141,
   "id": "7b0161c9",
   "metadata": {},
   "outputs": [
    {
     "name": "stdout",
     "output_type": "stream",
     "text": [
      "El primer término de esta sucesión es 0.33333333333333326\n"
     ]
    }
   ],
   "source": [
    "# Para obtner nuestro a0 vamos a tener que restar la distancia a1\n",
    "aCero = aUno - d\n",
    "print(\"El primer término de esta sucesión es\", aCero)"
   ]
  },
  {
   "cell_type": "code",
   "execution_count": 143,
   "id": "75e60e77",
   "metadata": {},
   "outputs": [
    {
     "name": "stdout",
     "output_type": "stream",
     "text": [
      "0.33333333333333326\n",
      "1.0\n",
      "1.6666666666666667\n",
      "2.333333333333333\n",
      "3.0\n"
     ]
    }
   ],
   "source": [
    "# Vamos a utilizar la función del término gneeral para hallar los 5 primeros elementos\n",
    "for i in range (5):\n",
    "    print(sucesionAritmetica(aCero, d, i))"
   ]
  },
  {
   "cell_type": "code",
   "execution_count": 142,
   "id": "ea6ed88e",
   "metadata": {},
   "outputs": [
    {
     "name": "stdout",
     "output_type": "stream",
     "text": [
      "La sumatoria de los 100 primero erlemntos es de  3333.3333333333335\n"
     ]
    }
   ],
   "source": [
    "# Para obtnner la sumatoria de 100 vamos a utilizar nuestra función sumatorio\n",
    "# Pero primero necesitamos obtner nuestro elemnot 100 a99\n",
    "aNnueve = sucesionAritmetica(aCero, d, 99)\n",
    "\n",
    "s = sumatorio(aCero, aNnueve, 99)\n",
    "print(\"La sumatoria de los 100 primero erlemntos es de \", s)"
   ]
  }
 ],
 "metadata": {
  "kernelspec": {
   "display_name": "Python 3",
   "language": "python",
   "name": "python3"
  },
  "language_info": {
   "codemirror_mode": {
    "name": "ipython",
    "version": 3
   },
   "file_extension": ".py",
   "mimetype": "text/x-python",
   "name": "python",
   "nbconvert_exporter": "python",
   "pygments_lexer": "ipython3",
   "version": "3.8.10"
  }
 },
 "nbformat": 4,
 "nbformat_minor": 5
}
