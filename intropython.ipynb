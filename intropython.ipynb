{
 "cells": [
  {
   "cell_type": "markdown",
   "id": "c260bc78",
   "metadata": {},
   "source": [
    "# Clase 1: Introducción a Python y Programación\n",
    "\n",
    "## Objetivos:\n",
    "- Aprender qué es Python.\n",
    "- Entender los conceptos básicos de la programación.\n",
    "- Trabajar con variables y tipos de datos.\n",
    "- Realizar operaciones básicas.\n",
    "- Introducción a las estructuras de control: condicionales y bucles.\n",
    "\n",
    "---\n",
    "\n",
    "# 1. ¿Qué es Python y para qué sirve?\n",
    "\n",
    "Python es un lenguaje de programación que se utiliza para crear programas informáticos. Se usa en muchas áreas, como desarrollo de páginas web, análisis de datos, inteligencia artificial y más. Es popular porque es fácil de leer y aprender.\n",
    "\n",
    "```python\n",
    "\n"
   ]
  },
  {
   "cell_type": "code",
   "execution_count": 16,
   "id": "b580dd57",
   "metadata": {},
   "outputs": [
    {
     "name": "stdout",
     "output_type": "stream",
     "text": [
      "¡Hola, mundo!\n"
     ]
    }
   ],
   "source": [
    "# Este es un comentario: el ordenador lo ignora, pero es útil para los humanos.\n",
    "\n",
    "print(\"¡Hola, mundo!\")"
   ]
  },
  {
   "cell_type": "markdown",
   "id": "b7730380",
   "metadata": {},
   "source": [
    "# 2. Variables y tipos de datos\n",
    "En programación, una variable es un espacio en la memoria que almacena información. Podemos cambiar el contenido de una variable en cualquier momento."
   ]
  },
  {
   "cell_type": "code",
   "execution_count": 17,
   "id": "536a9079",
   "metadata": {},
   "outputs": [
    {
     "name": "stdout",
     "output_type": "stream",
     "text": [
      "Nombre: Juan <class 'str'>\n",
      "Edad: 15 <class 'int'>\n",
      "Altura: 1.7 <class 'float'>\n"
     ]
    }
   ],
   "source": [
    "nombre = \"Juan\"  # Esto es una variable de tipo texto\n",
    "edad = 15        # Esto es una variable de tipo número entero\n",
    "altura = 1.70    # Esto es una variable de tipo número decimal (flotante)\n",
    "\n",
    "# Imprimimos las variables\n",
    "print(\"Nombre:\", nombre, type(nombre))\n",
    "print(\"Edad:\", edad, type(edad))\n",
    "print(\"Altura:\", altura, type(altura))\n"
   ]
  },
  {
   "cell_type": "code",
   "execution_count": 18,
   "id": "b5b9e1a6",
   "metadata": {},
   "outputs": [
    {
     "name": "stdout",
     "output_type": "stream",
     "text": [
      "Ahora el nombre no es un texto  6.0 <class 'float'>\n"
     ]
    }
   ],
   "source": [
    "# Ojo, Python es muy flexible\n",
    "nombre = 5.0\n",
    "print (\"Ahora el nombre no es un texto \", nombre + 1, type(nombre))"
   ]
  },
  {
   "cell_type": "markdown",
   "id": "801d4cfa",
   "metadata": {},
   "source": [
    "Algunos de los tipos de datos más comunes son"
   ]
  },
  {
   "cell_type": "code",
   "execution_count": 19,
   "id": "e6ce4ef8",
   "metadata": {},
   "outputs": [
    {
     "name": "stdout",
     "output_type": "stream",
     "text": [
      "<class 'int'>\n",
      "<class 'float'>\n",
      "<class 'str'>\n",
      "<class 'list'>\n"
     ]
    }
   ],
   "source": [
    "# Ejemplos de uso\n",
    "print(type(10))        # <class 'int'>\n",
    "print(type(10.5))      # <class 'float'>\n",
    "print(type(\"Hola\"))    # <class 'str'>\n",
    "print(type([1, 2, 3])) # <class 'list'>\n"
   ]
  },
  {
   "cell_type": "markdown",
   "id": "fdb08bcf",
   "metadata": {},
   "source": [
    "# 3. Operaciones básicas\n",
    "Podemos usar Python como una calculadora para hacer operaciones básicas con números."
   ]
  },
  {
   "cell_type": "code",
   "execution_count": 20,
   "id": "14a41cd2",
   "metadata": {},
   "outputs": [
    {
     "name": "stdout",
     "output_type": "stream",
     "text": [
      "Suma: 8\n",
      "Resta: 6\n",
      "Multiplicación: 12\n",
      "División: 5.0\n"
     ]
    }
   ],
   "source": [
    "suma = 5 + 3\n",
    "resta = 10 - 4\n",
    "multiplicacion = 2 * 6\n",
    "division = 15 / 3  # El resultado siempre es un número decimal\n",
    "\n",
    "print(\"Suma:\", suma)\n",
    "print(\"Resta:\", resta)\n",
    "print(\"Multiplicación:\", multiplicacion)\n",
    "print(\"División:\", division)\n"
   ]
  },
  {
   "cell_type": "markdown",
   "id": "754971f6",
   "metadata": {},
   "source": [
    "También podemos combinar texto y numeros"
   ]
  },
  {
   "cell_type": "code",
   "execution_count": 21,
   "id": "0ffbf635",
   "metadata": {},
   "outputs": [
    {
     "name": "stdout",
     "output_type": "stream",
     "text": [
      "Hola, me llamo Ana y tengo 14 años.\n"
     ]
    }
   ],
   "source": [
    "nombre = \"Ana\"\n",
    "edad = 14\n",
    "\n",
    "# Usamos la función print para combinar texto y variables\n",
    "print(\"Hola, me llamo\", nombre, \"y tengo\", edad, \"años.\")\n"
   ]
  },
  {
   "cell_type": "markdown",
   "id": "839132a9",
   "metadata": {},
   "source": [
    "# 4. Estructuras de control\n",
    "## 4.1 Condicionales if\n",
    "Las estructuras condicionales nos permiten que el programa tome decisiones."
   ]
  },
  {
   "cell_type": "code",
   "execution_count": 22,
   "id": "4e523290",
   "metadata": {},
   "outputs": [
    {
     "name": "stdout",
     "output_type": "stream",
     "text": [
      "Eres menor de edad.\n"
     ]
    }
   ],
   "source": [
    "edad = 16\n",
    "\n",
    "if edad >= 18:\n",
    "    print(\"Eres mayor de edad.\")\n",
    "else:\n",
    "    print(\"Eres menor de edad.\")\n"
   ]
  },
  {
   "cell_type": "markdown",
   "id": "75c26bf5",
   "metadata": {},
   "source": [
    "## 4.2 Bucles for\n",
    "Un bucle es una forma de repetir código varias veces. El bucle for se usa para repetir una acción un número específico de veces."
   ]
  },
  {
   "cell_type": "code",
   "execution_count": 23,
   "id": "d7a7b2eb",
   "metadata": {},
   "outputs": [
    {
     "name": "stdout",
     "output_type": "stream",
     "text": [
      "Este es el número: 0\n",
      "Este es el número: 1\n",
      "Este es el número: 2\n",
      "Este es el número: 3\n",
      "Este es el número: 4\n"
     ]
    }
   ],
   "source": [
    "for i in range(5):\n",
    "    print(\"Este es el número:\", i)\n"
   ]
  },
  {
   "cell_type": "markdown",
   "id": "89ce5d2f",
   "metadata": {},
   "source": [
    "# 5. Funciones\n",
    "Las funciones son bloques de código que podemos definir una vez y usar muchas veces. Esto nos ayuda a no repetir código."
   ]
  },
  {
   "cell_type": "code",
   "execution_count": 24,
   "id": "1af04b12",
   "metadata": {},
   "outputs": [
    {
     "name": "stdout",
     "output_type": "stream",
     "text": [
      "Hola, Carlos\n",
      "Hola, María\n"
     ]
    }
   ],
   "source": [
    "# Definimos una función\n",
    "def saludar(nombre):\n",
    "    print(\"Hola,\", nombre)\n",
    "\n",
    "# Llamamos a la función\n",
    "saludar(\"Carlos\")\n",
    "saludar(\"María\")\n"
   ]
  },
  {
   "cell_type": "markdown",
   "id": "81886842",
   "metadata": {},
   "source": [
    "# 6. Librerías y Funciones Matemáticas en Python\n",
    "Python tiene un gran ecosistema de librerías que facilitan el trabajo con matemáticas, desde operaciones básicas hasta cálculos complejos. Sin embargo, antes de aprovechar estas librerías, es importante entender cómo realizar ciertos cálculos manualmente, como una forma de aprender los conceptos básicos.\n",
    "\n",
    "## Ejemplo: Potencias\n",
    "El cálculo de potencias a^b (donde a es la base y b es el exponente) se puede hacer de múltiples formas. \n",
    "Aquí veremos dos enfoques:\n",
    "1. Usando bucles: una implementación manual sin usar funciones matemáticas predefinidas.\n",
    "2. Usando librerías: aprovechando funciones provistas por Python para hacer el cálculo directamente."
   ]
  },
  {
   "cell_type": "code",
   "execution_count": 25,
   "id": "3a474c62",
   "metadata": {},
   "outputs": [
    {
     "name": "stdout",
     "output_type": "stream",
     "text": [
      "2 elevado a 5 usando bucles es: 32\n"
     ]
    }
   ],
   "source": [
    "# 1. Cálculo de Potencias usando Bucles\n",
    "\n",
    "def potencia_con_bucle(base, exponente):\n",
    "    resultado = 1\n",
    "    for _ in range(exponente):\n",
    "        resultado *= base\n",
    "    return resultado\n",
    "\n",
    "# Ejemplo de uso\n",
    "base = 2\n",
    "exponente = 5\n",
    "print(f\"{base} elevado a {exponente} usando bucles es: {potencia_con_bucle(base, exponente)}\")"
   ]
  },
  {
   "cell_type": "code",
   "execution_count": 26,
   "id": "b05d5eeb",
   "metadata": {},
   "outputs": [
    {
     "name": "stdout",
     "output_type": "stream",
     "text": [
      "2 elevado a 5 usando pow() es: 32\n"
     ]
    }
   ],
   "source": [
    "# 2. Cálculo de Potencias usando Librerías\n",
    "import math\n",
    "\n",
    "def potencia_con_libreria(base, exponente):\n",
    "    return pow(base, exponente)  # También podrías usar: base ** exponente\n",
    "\n",
    "# Ejemplo de uso\n",
    "print(f\"{base} elevado a {exponente} usando pow() es: {potencia_con_libreria(base, exponente)}\")"
   ]
  },
  {
   "cell_type": "code",
   "execution_count": 28,
   "id": "e72235a1",
   "metadata": {},
   "outputs": [
    {
     "name": "stdout",
     "output_type": "stream",
     "text": [
      "2 elevado a 5 usando ** es: 32\n"
     ]
    }
   ],
   "source": [
    "def potencia_con_doble_asterisco(base, exponente):\n",
    "    return base ** exponente\n",
    "\n",
    "# Ejemplo de uso\n",
    "base = 2\n",
    "exponente = 5\n",
    "\n",
    "resultado = potencia_con_doble_asterisco(base, exponente)\n",
    "\n",
    "print(f\"{base} elevado a {exponente} usando ** es: {resultado}\")\n"
   ]
  },
  {
   "cell_type": "markdown",
   "id": "63e5baa7",
   "metadata": {},
   "source": [
    "Comparación entre Bucles y Librerías\n",
    "Código con bucles: Aunque el bucle manual es útil para aprender, no es eficiente comparado con las funciones optimizadas de las librerías.\n",
    "Código con librerías: Usar pow() o el operador ** es mucho más simple y rápido. Estas funciones están optimizadas para manejar \n",
    "cálculos grandes y situaciones especiales como exponentes negativos o fraccionarios.\n"
   ]
  },
  {
   "cell_type": "code",
   "execution_count": 29,
   "id": "19f0e8d5",
   "metadata": {},
   "outputs": [
    {
     "name": "stdout",
     "output_type": "stream",
     "text": [
      "Resultado con bucle: 32\n",
      "Resultado con librería: 32\n"
     ]
    }
   ],
   "source": [
    "# Usando bucle\n",
    "resultado_bucle = potencia_con_bucle(base, exponente)\n",
    "print(f\"Resultado con bucle: {resultado_bucle}\")\n",
    "\n",
    "# Usando librería\n",
    "resultado_libreria = potencia_con_libreria(base, exponente)\n",
    "print(f\"Resultado con librería: {resultado_libreria}\")"
   ]
  },
  {
   "cell_type": "code",
   "execution_count": null,
   "id": "6129bde6",
   "metadata": {},
   "outputs": [],
   "source": []
  }
 ],
 "metadata": {
  "kernelspec": {
   "display_name": "Python 3",
   "language": "python",
   "name": "python3"
  },
  "language_info": {
   "codemirror_mode": {
    "name": "ipython",
    "version": 3
   },
   "file_extension": ".py",
   "mimetype": "text/x-python",
   "name": "python",
   "nbconvert_exporter": "python",
   "pygments_lexer": "ipython3",
   "version": "3.8.10"
  }
 },
 "nbformat": 4,
 "nbformat_minor": 5
}
