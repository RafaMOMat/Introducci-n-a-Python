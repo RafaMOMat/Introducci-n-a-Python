{
 "cells": [
  {
   "cell_type": "markdown",
   "id": "1100e43b",
   "metadata": {},
   "source": [
    "# Ejercicio 1\n",
    "## Apartado a:\n",
    "Transforma de decimal a binario y de binario a decimal los siguientes números:\n",
    "100110\n",
    "1111\n",
    "1011\n",
    "110110\n",
    "18\n",
    "75\n",
    "120\n",
    "49\n",
    "\n",
    "## Apartado b:\n",
    "¿Qué habría que hacer para representar el número 128 usando la tabla?"
   ]
  },
  {
   "cell_type": "markdown",
   "id": "43ab57ff",
   "metadata": {},
   "source": [
    "# Ejercicio 2:\n",
    "Haciendo uso de un bucle for y del condicional if imprime por pantalla (print) los 10 primeros números y muestra un mensaje por pantalla diciendo sin son menores que cinco o mayores o iguales que cinco"
   ]
  },
  {
   "cell_type": "markdown",
   "id": "060704fe",
   "metadata": {},
   "source": [
    "# Ejercicio 3:\n",
    "Sea la sucesión aritmética 10, 15, 20, 25, 30...\n",
    "\n",
    "Arregla la siguiente función:"
   ]
  },
  {
   "cell_type": "code",
   "execution_count": 2,
   "id": "894f2782",
   "metadata": {},
   "outputs": [
    {
     "name": "stdout",
     "output_type": "stream",
     "text": [
      "1\n",
      "11\n",
      "21\n",
      "31\n",
      "41\n"
     ]
    }
   ],
   "source": [
    "def sucesion(i):\n",
    "    res = 10*i+1\n",
    "    return res\n",
    "\n",
    "for i in range (5):\n",
    "    print(sucesion(i))"
   ]
  },
  {
   "cell_type": "markdown",
   "id": "67909e8f",
   "metadata": {},
   "source": [
    "# Ejercicio 4\n",
    "Haciendo uso de las funciones definidas a continuación resuelve el siguiente problema de sucesiones.\n",
    "\n",
    "Sea la sucesión con a0 = 25 y a2 = 55.\n",
    "\n",
    "## Apartado a:\n",
    "Calculad la diferencia y mostradla por pantalla haciendo uso de un print\n",
    "\n",
    "## Apartado b:\n",
    "Mostrad por pantalla los 5 primeros elementos de la sucesión\n",
    "\n",
    "## Apartado c:\n",
    "Calculad la sumatoria de los 100 primeros elmentos y mostradla por pantalla"
   ]
  },
  {
   "cell_type": "code",
   "execution_count": null,
   "id": "dbf8fd7e",
   "metadata": {},
   "outputs": [],
   "source": [
    "def sumatorio(a, ai, i):\n",
    "    s = (a+ai)*(i+1)/2\n",
    "    return s\n",
    "\n",
    "def sucesionAritmetica(a, d, i):\n",
    "    ai = a + d*i\n",
    "    return ai\n",
    "\n",
    "def sumatorio(a, ai, i):\n",
    "    s = (a+ai)*(i+1)/2\n",
    "    return s\n"
   ]
  }
 ],
 "metadata": {
  "kernelspec": {
   "display_name": "Python 3",
   "language": "python",
   "name": "python3"
  },
  "language_info": {
   "codemirror_mode": {
    "name": "ipython",
    "version": 3
   },
   "file_extension": ".py",
   "mimetype": "text/x-python",
   "name": "python",
   "nbconvert_exporter": "python",
   "pygments_lexer": "ipython3",
   "version": "3.8.10"
  }
 },
 "nbformat": 4,
 "nbformat_minor": 5
}
